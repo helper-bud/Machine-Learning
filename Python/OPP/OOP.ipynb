{
  "nbformat": 4,
  "nbformat_minor": 0,
  "metadata": {
    "colab": {
      "name": "OOP.ipynb",
      "provenance": [],
      "collapsed_sections": []
    },
    "kernelspec": {
      "name": "python3",
      "display_name": "Python 3"
    },
    "language_info": {
      "name": "python"
    }
  },
  "cells": [
    {
      "cell_type": "markdown",
      "source": [
        "#Instance Attributes"
      ],
      "metadata": {
        "id": "6e02HaHiB8dd"
      }
    },
    {
      "cell_type": "markdown",
      "source": [
        "if a def is inside a class then its call method,\n",
        "other wise its calls function.\n",
        "Inheritance, Encapsulation, Polymorphism, and Data abstraction"
      ],
      "metadata": {
        "id": "hPoCvvJl_T1T"
      }
    },
    {
      "cell_type": "code",
      "execution_count": null,
      "metadata": {
        "id": "IoNSThiRvgDv"
      },
      "outputs": [],
      "source": [
        "class Item: \n",
        "\n",
        "  def __init__(self): # constructor. It executes automatically\n",
        "    print(\"i came here first then  i went for calculate.\")\n",
        "\n",
        "\n",
        "  def calculate_total(self,x,y):\n",
        "    return x * y\n"
      ]
    },
    {
      "cell_type": "code",
      "source": [
        "item1  = Item()\n",
        "item1.name= \"phone\"\n",
        "item1.price =100\n",
        "item1.quantity = 5\n",
        "\n",
        "print(\"item 1 : \",item1.calculate_total(item1.price, item1.quantity))\n",
        "# when you are passing this in calculate total method,\n",
        "# then its taking item1 as self, item1.price as x and item1.quantity as y\n",
        "\n",
        "\n",
        "item2  = Item()\n",
        "item2.name= \"Laptop\"\n",
        "item2.price =1000\n",
        "item2.quantity = 3\n",
        "\n",
        "print(\"item 2 : \",item1.calculate_total(item2.price, item2.quantity))"
      ],
      "metadata": {
        "colab": {
          "base_uri": "https://localhost:8080/"
        },
        "id": "1UZMJN5Fz682",
        "outputId": "6d181ea0-4146-4866-8a04-cb47f3abd4ba"
      },
      "execution_count": null,
      "outputs": [
        {
          "output_type": "stream",
          "name": "stdout",
          "text": [
            "i came here first then  i went for calculate.\n",
            "item 1 :  500\n",
            "i came here first then  i went for calculate.\n",
            "item 2 :  3000\n"
          ]
        }
      ]
    },
    {
      "cell_type": "markdown",
      "source": [
        "avoding hardcoding"
      ],
      "metadata": {
        "id": "TSoaV5IGCFri"
      }
    },
    {
      "cell_type": "code",
      "source": [
        "class Item2:\n",
        "\n",
        "  # constructor. It executes automatically\n",
        "  # you can declare the variable type that you want to accept.\n",
        "  def __init__( self, name: str, price: float, quantity = 2):\n",
        "     # assert is used to check if somthing is happening according to your expectation.\n",
        "     assert quantity>=0, f\"quantity {quantity} is not less than 0\"\n",
        "     try:\n",
        "       assert (price>=0)\n",
        "     except:\n",
        "        print(\"price cant be negative\")\n",
        "    \n",
        "     self.name = name\n",
        "     self.price = price\n",
        "     self.quantity = quantity\n",
        "\n",
        "  def calculate_total(self):\n",
        "    return self.price * self.quantity"
      ],
      "metadata": {
        "id": "efkMjXMOA-Pf"
      },
      "execution_count": null,
      "outputs": []
    },
    {
      "cell_type": "code",
      "source": [
        "new  = Item2(\"phone\", -200.0,2)\n",
        "'''\n",
        "#print(\"item 1 : \",new.calculate_total(new.price, new.quantity))\n",
        "\n",
        "print(new.name)\n",
        "print(new.price)\n",
        "print(new.quantity)\n",
        "'''\n",
        "print(new.calculate_total())\n",
        "\n",
        "#unique \n",
        "new.has_numpad = False\n",
        "print(new.has_numpad)\n"
      ],
      "metadata": {
        "colab": {
          "base_uri": "https://localhost:8080/"
        },
        "id": "eLSoOSZoCN8d",
        "outputId": "95d56055-a97f-4536-95de-ccf7cfc55607"
      },
      "execution_count": null,
      "outputs": [
        {
          "output_type": "stream",
          "name": "stdout",
          "text": [
            "price cant be negative\n",
            "-400.0\n",
            "False\n"
          ]
        }
      ]
    },
    {
      "cell_type": "code",
      "source": [
        "new2  = Item2(\"laptop\", 200.0,5)\n",
        "\n",
        "print(new2.calculate_total())"
      ],
      "metadata": {
        "colab": {
          "base_uri": "https://localhost:8080/"
        },
        "id": "yKht-UKOFDSn",
        "outputId": "1ebe408f-75a1-4c56-a0bf-d25d7696759d"
      },
      "execution_count": null,
      "outputs": [
        {
          "output_type": "stream",
          "name": "stdout",
          "text": [
            "1000.0\n"
          ]
        }
      ]
    },
    {
      "cell_type": "markdown",
      "source": [
        "#Class Attribute"
      ],
      "metadata": {
        "id": "N2bxHZW3JkKB"
      }
    },
    {
      "cell_type": "code",
      "source": [
        "class Items:\n",
        "\n",
        "  payRate = 0.8\n",
        "\n",
        "  # constructor. It executes automatically\n",
        "  # you can declare the variable type that you want to accept.\n",
        "  def __init__( self, name: str, price: float, quantity = 2):\n",
        "     # assert is used to check if somthing is happening according to your expectation.\n",
        "     assert quantity>=0, f\"quantity {quantity} is not less than 0\"\n",
        "     try:\n",
        "       assert (price>=0)\n",
        "     except:\n",
        "        print(\"price cant be negative\")\n",
        "    \n",
        "     self.name = name\n",
        "     self.price = price\n",
        "     self.quantity = quantity\n",
        "\n",
        "  def calculate_total(self):\n",
        "    return self.price * self.quantity\n",
        "  \n",
        "  def apply_discount(self):\n",
        "    # to access the default pay rate in the class use > Items.payRate\n",
        "    self.price = self.price * self.payRate\n",
        "    return self.price\n",
        "  \n",
        "  def __repr__(self):\n",
        "    return f\"Item ('{self.name}, {self.price}, {self.quantity}')\" # represents our instances.\n",
        "\n",
        "    \n"
      ],
      "metadata": {
        "id": "oXZKqZW5JoVF"
      },
      "execution_count": null,
      "outputs": []
    },
    {
      "cell_type": "code",
      "source": [
        "new_  = Items(\"phone\", 200.0,2)\n",
        "print(new_.apply_discount())\n",
        "\n",
        "\n",
        "new2_ = Items(\"Laptop\", 200.0,2)\n",
        "new2_.payRate = 0.6\n",
        "print(new2_.apply_discount())\n",
        "\n",
        "item1 = Items(\"Phone\", 100, 1)\n",
        "item2 = Items(\"Laptop\", 1000, 3)\n",
        "item3 = Items(\"Cable\", 10, 5)\n",
        "item4 = Items(\"Mouse\", 50, 5)\n",
        "item5 = Items(\"Keyboard\", 75, 5)\n",
        "\n",
        "\n",
        "\n",
        "#print(Items.payRate)\n",
        "#print(Items.__dict__) # All the attributes for class level\n"
      ],
      "metadata": {
        "colab": {
          "base_uri": "https://localhost:8080/"
        },
        "id": "uwEcUQuGUzjP",
        "outputId": "b5e4cc90-ce47-4013-eab4-d480590e22b5"
      },
      "execution_count": null,
      "outputs": [
        {
          "output_type": "stream",
          "name": "stdout",
          "text": [
            "160.0\n",
            "120.0\n"
          ]
        }
      ]
    },
    {
      "cell_type": "code",
      "source": [
        ""
      ],
      "metadata": {
        "id": "4aAg_taDYXvh"
      },
      "execution_count": null,
      "outputs": []
    },
    {
      "cell_type": "markdown",
      "source": [
        "#Telusko"
      ],
      "metadata": {
        "id": "52ZSyMLekjBR"
      }
    },
    {
      "cell_type": "code",
      "source": [
        "class Computer:\n",
        "\n",
        "  # constructor of python\n",
        "  def __init__(self, cpu , ram):\n",
        "    self.cpu = cpu\n",
        "    self.ram = ram     \n",
        "\n",
        "  def config(self):\n",
        "    print(\"config is\", self.cpu, self.ram)\n",
        "  \n",
        "\n",
        "  def update(self):\n",
        "    self.age = 30"
      ],
      "metadata": {
        "id": "bELX3ymMkxLO"
      },
      "execution_count": 20,
      "outputs": []
    },
    {
      "cell_type": "code",
      "source": [
        "c1 = Computer(\"ryzewn\", 8)\n",
        "c2 = Computer(\"ryzewn\", 8)"
      ],
      "metadata": {
        "id": "hDvHSF8Nk9za"
      },
      "execution_count": 21,
      "outputs": []
    },
    {
      "cell_type": "markdown",
      "source": [
        "# instance variable and class variable"
      ],
      "metadata": {
        "id": "9NuOWgLV6pY6"
      }
    },
    {
      "cell_type": "code",
      "source": [
        "class Car:\n",
        "  # class variable\n",
        "   wheels = 4\n",
        "\n",
        "   def __init__(self):\n",
        "     # instance variable\n",
        "     self.mil = 10\n",
        "     self.com = \"BMW\""
      ],
      "metadata": {
        "id": "UlVxoJJr6bPH"
      },
      "execution_count": 30,
      "outputs": []
    },
    {
      "cell_type": "code",
      "source": [
        "c1 = Car()\n",
        "c2 = Car()\n",
        "print( \"before changing\",c1.mil, c2. mil)\n",
        "c1.mil  = 20\n",
        "print(\"after changing\",c1.mil, c2. mil)\n",
        "\n",
        "print(\"before changing wheels\", c1.wheels, c2.wheels)\n",
        "Car.wheels = 2011\n",
        "print(\"after changing wheels\", c1.wheels, c2.wheels)"
      ],
      "metadata": {
        "colab": {
          "base_uri": "https://localhost:8080/"
        },
        "id": "9kfH34Lq6ru9",
        "outputId": "1252632c-2bfe-40c3-835e-4ba882b94345"
      },
      "execution_count": 34,
      "outputs": [
        {
          "output_type": "stream",
          "name": "stdout",
          "text": [
            "before changing 10 10\n",
            "after changing 20 10\n",
            "before changing wheels 4 4\n",
            "after changing wheels 2011 2011\n"
          ]
        }
      ]
    },
    {
      "cell_type": "markdown",
      "source": [
        "#Types of methods"
      ],
      "metadata": {
        "id": "YNSN7rdh-gaF"
      }
    },
    {
      "cell_type": "code",
      "source": [
        "# instance method \n",
        "# class methods\n",
        "# static methods.\n",
        "\n",
        "class Student():\n",
        "\n",
        "  # static variable\n",
        "  school = \"telusko\"\n",
        "\n",
        "   # constructor of python\n",
        "  def __init__(self, m1 , m2, m3):\n",
        "    self.m1 = m1\n",
        "    self.m2 = m2\n",
        "    self.m3 = m3\n",
        "  \n",
        "\n",
        "  def avg(self):\n",
        "    return (self.m1+self.m2+self.m3)/3\n",
        "  \n",
        "  # if you wanna use info as a class method you have to use decorator like class method.\n",
        "  @classmethod\n",
        "  def info(cls):\n",
        "    return cls.school"
      ],
      "metadata": {
        "id": "jlwYPqnH-j4G"
      },
      "execution_count": 44,
      "outputs": []
    },
    {
      "cell_type": "code",
      "source": [
        "s1 = Student(23,34,21)\n",
        "print(s1.avg())\n",
        "\n",
        "print(s1.info())"
      ],
      "metadata": {
        "colab": {
          "base_uri": "https://localhost:8080/"
        },
        "id": "XvC8xGmi_AJM",
        "outputId": "ce4c19b1-b5f6-4f9f-868f-9bafd4d738e8"
      },
      "execution_count": 43,
      "outputs": [
        {
          "output_type": "stream",
          "name": "stdout",
          "text": [
            "26.0\n",
            "telusko\n"
          ]
        }
      ]
    },
    {
      "cell_type": "markdown",
      "source": [
        "#Inner class"
      ],
      "metadata": {
        "id": "N_30i_rDCFXT"
      }
    },
    {
      "cell_type": "code",
      "source": [
        "class Students:\n",
        "\n",
        "  def __init__(self, name, roll):\n",
        "    self.name = name\n",
        "    self.roll = roll\n",
        "    # calling inner class\n",
        "    self.lap = self.Laptop()\n",
        "\n",
        "  def show(self):\n",
        "    print(self.name, self.roll)\n",
        "    self.lap.show()\n",
        "  \n",
        "  class Laptop:\n",
        "    def __init__(self):\n",
        "      self.brand = \"HP\"\n",
        "      self.cpu = \"i5\"\n",
        "      self.ram = 8\n",
        "\n",
        "    def show(self):\n",
        "      print(self.brand, self.cpu)"
      ],
      "metadata": {
        "id": "XEnQ9M7PCHv-"
      },
      "execution_count": 62,
      "outputs": []
    },
    {
      "cell_type": "code",
      "source": [
        "s1 = Students(\"navin\",12)\n",
        "s1.show()\n",
        "\n",
        "print(s1.lap.brand)\n",
        "\n"
      ],
      "metadata": {
        "colab": {
          "base_uri": "https://localhost:8080/"
        },
        "id": "KsnigRJ3CUjb",
        "outputId": "219b7509-2f46-4949-e9b3-015cdc5a3e0f"
      },
      "execution_count": 63,
      "outputs": [
        {
          "output_type": "stream",
          "name": "stdout",
          "text": [
            "navin 12\n",
            "HP i5\n",
            "HP\n"
          ]
        }
      ]
    },
    {
      "cell_type": "markdown",
      "source": [
        "#Inheritance"
      ],
      "metadata": {
        "id": "nqpzfTsJXq41"
      }
    },
    {
      "cell_type": "code",
      "source": [
        "class A:\n",
        "\n",
        "  def __init__(self):\n",
        "    print(\"In it A\")\n",
        "\n",
        "\n",
        "  def f1(self):\n",
        "    print(\"Feature 1 working\")\n",
        "  \n",
        "  def f2(self):\n",
        "    print(\"Feature 2 working\")\n",
        "\n",
        "class B(A): # B now has all the methods of A\n",
        "  \n",
        "  def __init__(self):\n",
        "    #super().__init__() # accesing the parent class in it.\n",
        "    print(\"In it B\")\n",
        "  \n",
        "  def f3(self):\n",
        "    print(\"Feature 3 working\")\n",
        "  \n",
        "  def f4(self):\n",
        "    print(\"Feature 4 working\")\n",
        "\n",
        "class C(B): # C now has all the methods of A & B\n",
        "  def f3(self):\n",
        "    print(\"Feature 3 working\")\n",
        "  \n",
        "  def f4(self):\n",
        "    print(\"Feature 4 working\")\n",
        "\n",
        "class D(C, B): # D now has all the methods of  B & C. It cant parent classs\n",
        "  def f3(self):\n",
        "    print(\"Feature 3 working\")\n",
        "  \n",
        "  def f4(self):\n",
        "    print(\"Feature 4 working\")"
      ],
      "metadata": {
        "id": "kB7lqmRQXt9z"
      },
      "execution_count": 82,
      "outputs": []
    },
    {
      "cell_type": "code",
      "source": [
        "#a = B()\n",
        "#print(a.f1())\n",
        "\n",
        "\n",
        "''' even though in it function is inside a.  \n",
        "as B is child class it can access its construtor.\n",
        "But if b has the same constructor then the constructor of will be called.\n",
        "And if you still wanna call A's contructor then you need to use super key word.\n",
        "'''\n",
        "a1 = B() \n",
        "\n"
      ],
      "metadata": {
        "colab": {
          "base_uri": "https://localhost:8080/"
        },
        "id": "S3cKpJODanzT",
        "outputId": "fe5a8653-49cd-4796-8fa6-de51fa8b4d9c"
      },
      "execution_count": 83,
      "outputs": [
        {
          "output_type": "stream",
          "name": "stdout",
          "text": [
            "In it A\n",
            "In it B\n"
          ]
        }
      ]
    },
    {
      "cell_type": "markdown",
      "source": [
        "#Polymorphism"
      ],
      "metadata": {
        "id": "Vvv99BfqePjd"
      }
    },
    {
      "cell_type": "markdown",
      "source": [
        "Duck Tying"
      ],
      "metadata": {
        "id": "BAnuj2ugeWz1"
      }
    },
    {
      "cell_type": "code",
      "source": [
        " class Pycharm:\n",
        "   def execute(self):\n",
        "     print(\"compiling\")\n",
        "     print(\"running\")\n",
        "  \n",
        " class MyEditor:\n",
        "    def execute(self):\n",
        "     print(\"compiling\")\n",
        "     print(\"running\")\n",
        "  \n",
        " class Laptop:\n",
        "    def code(self, ide):\n",
        "      ide.execute()"
      ],
      "metadata": {
        "id": "xN59q4JeeU20"
      },
      "execution_count": 89,
      "outputs": []
    },
    {
      "cell_type": "code",
      "source": [
        "ide = MyEditor()\n",
        "\n",
        "lap1 = Laptop()\n",
        "lap1.code(ide)"
      ],
      "metadata": {
        "colab": {
          "base_uri": "https://localhost:8080/"
        },
        "id": "sNbNAdMpqRBe",
        "outputId": "f162241c-9dfc-4c79-84c3-efa7cc722f16"
      },
      "execution_count": 91,
      "outputs": [
        {
          "output_type": "stream",
          "name": "stdout",
          "text": [
            "compiling\n",
            "running\n"
          ]
        }
      ]
    },
    {
      "cell_type": "markdown",
      "source": [
        "Method Overloading"
      ],
      "metadata": {
        "id": "vIbgYPQXqxI6"
      }
    },
    {
      "cell_type": "code",
      "source": [
        "class Student:\n",
        "  def __init__(self, m1,m2):\n",
        "    self.m1 = m1\n",
        "    self.m2 = m2\n",
        "  \n",
        "  def __add__(self, other):\n",
        "    m1 = self.m1 + other.m1\n",
        "    m2 = self.m2 + other.m2\n",
        "    s3 = Student(m1,m2)\n",
        "    return s3"
      ],
      "metadata": {
        "id": "r8cLdCB4qziA"
      },
      "execution_count": 92,
      "outputs": []
    },
    {
      "cell_type": "code",
      "source": [
        "s1 = Student(58, 69)\n",
        "s2 = Student(60,65)\n",
        "\n",
        "s3 = s1 + s2 # overloaded the + operatror in __add__ method\n",
        "\n",
        "print(s3.m1)"
      ],
      "metadata": {
        "colab": {
          "base_uri": "https://localhost:8080/"
        },
        "id": "FZcLdqDYwVKT",
        "outputId": "45b5d35b-d6e3-420b-aa3d-dadb12f92d30"
      },
      "execution_count": 93,
      "outputs": [
        {
          "output_type": "stream",
          "name": "stdout",
          "text": [
            "118\n"
          ]
        }
      ]
    }
  ]
}