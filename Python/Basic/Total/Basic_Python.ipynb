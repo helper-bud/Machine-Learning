{
  "nbformat": 4,
  "nbformat_minor": 0,
  "metadata": {
    "colab": {
      "name": "Basic Python",
      "provenance": [],
      "collapsed_sections": [
        "LTPk4w2ssFgM",
        "9yCGXOJisic5",
        "95UAZOiOpPxD",
        "X3EpKFFrqAN4",
        "63fF7EWAqmC9",
        "ZQgS0E0nrQq_",
        "2_YhwFfFrgG3",
        "3aeC4omfr4Tr",
        "FFkw-QhMvAzW",
        "K2vvQxJpvUZN",
        "M8r6TfkMsQnj",
        "fEB2ha2JtufG",
        "cZeiqucVt9NU",
        "hau1l5d4yg5f"
      ]
    },
    "kernelspec": {
      "name": "python3",
      "display_name": "Python 3"
    },
    "language_info": {
      "name": "python"
    }
  },
  "cells": [
    {
      "cell_type": "markdown",
      "source": [
        "#variable"
      ],
      "metadata": {
        "id": "LTPk4w2ssFgM"
      }
    },
    {
      "cell_type": "code",
      "source": [
        "a = 123 #integer\n",
        "b = 1.23 #float\n",
        "c = 1+ 2j #complex\n",
        "d = \"hello world\"\n",
        "e = True\n",
        "f = False\n",
        "print(a)\n",
        "print(b)\n",
        "print(c)\n",
        "print(d)\n",
        "print(e)\n",
        "print(f)\n",
        "type(a) # to see the type of the variable"
      ],
      "metadata": {
        "id": "i0oGJ7aQsIXH"
      },
      "execution_count": null,
      "outputs": []
    },
    {
      "cell_type": "markdown",
      "source": [
        "#String"
      ],
      "metadata": {
        "id": "9yCGXOJisic5"
      }
    },
    {
      "cell_type": "code",
      "source": [
        "x= \"hi \"\n",
        "y = \"hello, how are you\"\n",
        "z = x+y  #concat\n",
        "\n",
        "print(z)\n",
        "\n",
        "# accessing value of string\n",
        "print(y[0])\n",
        "\n",
        "# length\n",
        "print(len(y)-1)\n",
        "\n",
        "print(y.lower())\n",
        "print(y.upper())\n",
        "\n",
        "print(y.title()) #it will make all the first letter of string upper case\n",
        "\n",
        "print(y.strip()) # remove the space beginig and end\n",
        "\n",
        "print(y.find(\"h\")) # to find index\n",
        "\n",
        "print(y.replace(\"h\",\"j\")) # replace all of them\n",
        "\n",
        "print('hello' in y) # check if the string exist in the string\n",
        "\n",
        "# !! string slicing\n",
        "m = \"my name is azmain\"\n",
        "#m[a:b] -> return from index a up until index b(b not included)\n",
        "print (m[0:5])\n",
        "print (m[:5]) # it will automatically take 0 as the begining\n",
        "print(m[-1]) # it will print the value of last element"
      ],
      "metadata": {
        "id": "-fd1FfDGsjwb"
      },
      "execution_count": null,
      "outputs": []
    },
    {
      "cell_type": "markdown",
      "source": [
        "# print"
      ],
      "metadata": {
        "id": "95UAZOiOpPxD"
      }
    },
    {
      "cell_type": "code",
      "source": [
        "a = 20\n",
        "b = 24\n",
        "c = 60\n",
        "\n",
        "resutl   = a *b * c\n",
        "\n",
        "print(\"20 days\",resutl,\" in min:\")\n",
        "\n",
        "print(\"20 days\",str(resutl),\" in min:\")\n",
        "\n",
        "print(f\"20 days {resutl} in min:\")\n",
        "\n",
        "print(f\"20 days { a * b * c} in min \\n\") "
      ],
      "metadata": {
        "colab": {
          "base_uri": "https://localhost:8080/"
        },
        "id": "jV_Kk9NQp4iq",
        "outputId": "0de6ebc7-6fde-46fc-f917-5224d28c9a7a"
      },
      "execution_count": null,
      "outputs": [
        {
          "output_type": "stream",
          "name": "stdout",
          "text": [
            "20 days 28800  in min:\n",
            "20 days 28800  in min:\n",
            "20 days 28800 in min:\n",
            "20 days 28800 in min \n",
            "\n"
          ]
        }
      ]
    },
    {
      "cell_type": "markdown",
      "source": [
        "# user input"
      ],
      "metadata": {
        "id": "X3EpKFFrqAN4"
      }
    },
    {
      "cell_type": "code",
      "source": [
        "def printVal():\n",
        "    print(\"20 days\",str(resutl),\" in min:\")\n",
        "    print(\" all good! \")\n",
        "\n",
        "def printValWithParameters(num_of_days, a):\n",
        "    print(f\"{num_of_days} {a}\")\n",
        "\n",
        "\n",
        "a = int(input(\"Enter a : \"))\n",
        "\n",
        "b = float(input(\"Enter b : \"))\n",
        "\n",
        "c = bool(input(\"Enter c : \"))\n",
        "\n",
        "d = str(input(\"Enter d : \"))\n",
        "\n",
        "print(c)\n",
        "resutl   = a *b * c\n",
        "\n",
        "printVal()\n",
        "\n",
        "printValWithParameters(20,b)"
      ],
      "metadata": {
        "colab": {
          "base_uri": "https://localhost:8080/"
        },
        "id": "MEl9JClpqCV6",
        "outputId": "0e6f749e-6b6d-4ff5-d9c1-a719a0477959"
      },
      "execution_count": null,
      "outputs": [
        {
          "output_type": "stream",
          "name": "stdout",
          "text": [
            "Enter a : 12\n",
            "Enter b : 3.4\n",
            "Enter c : true\n",
            "Enter d : lol\n",
            "True\n",
            "20 days 40.8  in min:\n",
            " all good! \n",
            "20 3.4\n"
          ]
        }
      ]
    },
    {
      "cell_type": "markdown",
      "source": [
        "# tuples"
      ],
      "metadata": {
        "id": "63fF7EWAqmC9"
      }
    },
    {
      "cell_type": "code",
      "source": [
        "# Tuples are used to store multiple items in a single variable.\n",
        "# A tuple is a collection which is ordered and unchangeable.\n",
        "# Allow duplicates\n",
        "# you cant make tuple with one item\n",
        "\n",
        "thistuple = (\"apple\", \"banana\", \"cherry\")\n",
        "print(thistuple)\n",
        "print(len(thistuple))\n",
        "\n",
        "\n",
        "#NOT a tuple\n",
        "thistuple = (\"apple\")\n",
        "print(type(thistuple))\n",
        "\n",
        "tuple1 = (\"apple\", \"banana\", \"cherry\")\n",
        "tuple2 = (1, 5, 7, 9, 3)\n",
        "tuple3 = (True, False, False)\n",
        "\n",
        "# access tuple\n",
        "thistuple = (\"apple\", \"banana\", \"cherry\", \"orange\", \"kiwi\", \"melon\", \"mango\")\n",
        "print(thistuple[1])\n",
        "print(thistuple[-1]) # last item\n",
        "print(thistuple[2:5]) # including 2 to 4\n",
        "if \"apple\" in thistuple:\n",
        "    print(\"Yes, 'apple' is in the fruits tuple\")\n",
        "\n",
        "\n",
        "# tuples are immteable, so we have to convert it in to the list\n",
        "thistuple = (\"apple\", \"banana\", \"cherry\")\n",
        "y = list(thistuple)\n",
        "y.append(\"orange\") # adding\n",
        "thistuple = tuple(y)\n",
        "print(thistuple)\n",
        "\n",
        "#removing\n",
        "thistuple = (\"apple\", \"banana\", \"cherry\")\n",
        "y = list(thistuple)\n",
        "y.remove(\"apple\")\n",
        "thistuple = tuple(y)\n",
        "\n",
        "\n",
        "#iterating\n",
        "thistuple = (\"apple\", \"banana\", \"cherry\")\n",
        "for i in range(len(thistuple)):\n",
        "    print(thistuple[i])\n",
        "\n",
        "\n",
        "# joining two tuples\n",
        "tuple1 = (\"a\", \"b\" , \"c\")\n",
        "tuple2 = (1, 2, 3)\n",
        "\n",
        "tuple3 = tuple1 + tuple2\n",
        "print(tuple3)"
      ],
      "metadata": {
        "colab": {
          "base_uri": "https://localhost:8080/"
        },
        "id": "sr2M6rnTqqQ5",
        "outputId": "54b50040-7d24-40e6-8da4-af791c1f76ca"
      },
      "execution_count": null,
      "outputs": [
        {
          "output_type": "stream",
          "name": "stdout",
          "text": [
            "('apple', 'banana', 'cherry')\n",
            "3\n",
            "<class 'str'>\n",
            "banana\n",
            "mango\n",
            "('cherry', 'orange', 'kiwi')\n",
            "Yes, 'apple' is in the fruits tuple\n",
            "('apple', 'banana', 'cherry', 'orange')\n",
            "apple\n",
            "banana\n",
            "cherry\n",
            "('a', 'b', 'c', 1, 2, 3)\n"
          ]
        }
      ]
    },
    {
      "cell_type": "markdown",
      "source": [
        "# if"
      ],
      "metadata": {
        "id": "ZQgS0E0nrQq_"
      }
    },
    {
      "cell_type": "code",
      "source": [
        "a = int(input(\"Enter a : \"))\n",
        "\n",
        "if a > 0:\n",
        "    print(\"positive\")\n",
        "elif (a==0):\n",
        "    print(\"zero cant be accepted \")\n",
        "else:\n",
        "    print(\"negative\")\n",
        "\n",
        "num = int(input(\"enter a number\"))\n",
        "check = True\n",
        "\n",
        "if (num>0):\n",
        "    check = False\n",
        "else:\n",
        "    check =  True\n",
        "\n",
        "print(\"check on time\", num>0)\n",
        "print(check)"
      ],
      "metadata": {
        "id": "VjFVLvQkrT2U"
      },
      "execution_count": null,
      "outputs": []
    },
    {
      "cell_type": "markdown",
      "source": [
        "# for"
      ],
      "metadata": {
        "id": "2_YhwFfFrgG3"
      }
    },
    {
      "cell_type": "code",
      "source": [
        "fruits = [\"apple\", \"banana\", \"cherry\"]\n",
        "\n",
        "for x in fruits:\n",
        "    print(x)\n",
        "\n",
        "val= 10\n",
        "for x in range(val): # will print:  0 to 9\n",
        "    print(x)\n",
        "\n",
        "for x in range(2, 6): # will print:  2 to 5\n",
        "    print(x)\n",
        "\n",
        "for x in range(2, 30, 3): # 2 5 8 11 14 17 20 23 26 29. > 3 step diffrence\n",
        "  print(x)\n",
        "\n",
        "#only else in for loop\n",
        "for x in range(6):\n",
        "    print(x)\n",
        "else:\n",
        "    print(\"Finally finished!\")\n",
        "\n",
        "# nested for loops\n",
        "adj = [\"red\", \"big\", \"tasty\"]\n",
        "fruits = [\"apple\", \"banana\", \"cherry\"]\n",
        "\n",
        "for x in adj:\n",
        "    for y in fruits:\n",
        "        print(x, y)\n",
        "#output:\n",
        "'''\n",
        "red apple\n",
        "red banana\n",
        "red cherry\n",
        "big apple\n",
        "big banana\n",
        "big cherry\n",
        "tasty apple\n",
        "tasty banana\n",
        "tasty cherry\n",
        "'''\n",
        "\n",
        "# for loops cannot be empty, but if you for some reason have a for loop with no content, put in the pass statement to avoid getting an error.\n",
        "for x in [0, 1, 2]:\n",
        "    pass\n",
        "\n",
        "\n",
        "#break statement\n",
        "for x in range(6):\n",
        "    if x == 3: break\n",
        "    print(x)\n",
        "else:\n",
        "    print(\"Finally finished!\")\n",
        "\n",
        "\n",
        "\n",
        "for x in range(2, 30, 3):\n",
        "    print(x)"
      ],
      "metadata": {
        "id": "vx-zMjL1riCF"
      },
      "execution_count": null,
      "outputs": []
    },
    {
      "cell_type": "markdown",
      "source": [
        "# while "
      ],
      "metadata": {
        "id": "3aeC4omfr4Tr"
      }
    },
    {
      "cell_type": "code",
      "source": [
        "'''while True:\n",
        "    try:\n",
        "        a = int(input(\"Enter a : \"))\n",
        "\n",
        "    except ValueError:\n",
        "        print(\"wrong value\")\n",
        "\n",
        "    print(\"value\", a)'''\n",
        "\n",
        "\n",
        "i = 1\n",
        "print(\">>___from 1 to 5\")\n",
        "while i < 6:\n",
        "  print(i,end=' ')  \n",
        "  i += 1\n",
        "\n",
        "print()\n",
        "print(\">>___from 1 to 5 except 3\")\n",
        "i = 0\n",
        "while i < 6:\n",
        "  i += 1\n",
        "  if i == 3:\n",
        "    continue\n",
        "  print(i,end=' ')"
      ],
      "metadata": {
        "id": "4Fy2E81Gr8T3",
        "colab": {
          "base_uri": "https://localhost:8080/"
        },
        "outputId": "7727b5a0-1122-44a2-cbc1-aa218b860dc0"
      },
      "execution_count": null,
      "outputs": [
        {
          "output_type": "stream",
          "name": "stdout",
          "text": [
            ">>___from 1 to 5\n",
            "1 2 3 4 5 \n",
            ">>___from 1 to 5 except 3\n",
            "1 2 4 5 6 "
          ]
        }
      ]
    },
    {
      "cell_type": "markdown",
      "source": [
        "#list"
      ],
      "metadata": {
        "id": "FFkw-QhMvAzW"
      }
    },
    {
      "cell_type": "code",
      "source": [
        "mylist = [\"apple\", \"banana\", \"cherry\"]\n",
        "\n",
        "thislist = [\"apple\", \"banana\", \"cherry\", \"orange\", \"kiwi\", \"melon\", \"mango\"]\n",
        "print(thislist)\n",
        "print(thislist[-1]) # last item\n",
        "print(thislist[2:5]) # 3,4,5th item\n",
        "print(thislist[:4]) # 0,1,2,3\n",
        "print(thislist[-4:-1]) #This example returns the items from \"orange\" (-4) to, but NOT including \"mango\" (-1):\n",
        "\n",
        "# changing\n",
        "thislist[1] = \"blackcurrant\" # change the 1 item to blacurrant\n",
        "thislist[1:3] = [\"blackcurrant\", \"watermelon\"] # Change the values \"banana\" and \"cherry\" with the values \"blackcurrant\" and \"watermelon\":\n",
        "thislist.insert(2, \"watermelon\")\n",
        "thislist.clear() # clear list item\n",
        "\n",
        "#adding\n",
        "thislist.append(\"orange\")\n",
        "thislist.insert(1, \"orange\") # insert an item in the second positon\n",
        "\n",
        "# remove\n",
        "thislist.remove(\"banana\")\n",
        "thislist.pop(1) # remove the second item\n",
        "thislist.pop() # remove the last item\n",
        "del thislist[0] # remove the 1st item of the list.\n",
        "del thislist # it will delete the list\n",
        "\n",
        "# loop in the list\n",
        "thislist = [\"apple\", \"banana\", \"cherry\"]\n",
        "for x in thislist:\n",
        "    print(x)\n",
        "    \n",
        "thislist = [\"apple\", \"banana\", \"cherry\"]\n",
        "for i in range(len(thislist)):\n",
        "    print(thislist[i])\n",
        "\n",
        "thislist = [\"apple\", \"banana\", \"cherry\"]\n",
        "i = 0\n",
        "while i < len(thislist):\n",
        "    print(thislist[i])\n",
        "    i = i + 1\n",
        "\n",
        "\n",
        "# sorting\n",
        "thislist1 = [\"orange\", \"mango\", \"kiwi\", \"pineapple\", \"banana\"]\n",
        "thislist = [100, 50, 65, 82, 23]\n",
        "thislist.sort()\n",
        "thislist.sort(reverse = True)\n",
        "\n",
        "\n",
        "# copy the list\n",
        "thislist = [\"apple\", \"banana\", \"cherry\"]\n",
        "mylist = thislist.copy()\n",
        "print(mylist)\n",
        "\n",
        "\n",
        "# adding two list\n",
        "list1 = [\"a\", \"b\", \"c\"]\n",
        "list2 = [1, 2, 3]\n",
        "list3 = list1 + list2\n",
        "print(list3)\n",
        "#another way\n",
        "list1 = [\"a\", \"b\" , \"c\"]\n",
        "list2 = [1, 2, 3]\n",
        "for x in list2:\n",
        "    list1.append(x)\n",
        "print(list1)\n",
        "#another way\n",
        "list1 = [\"a\", \"b\" , \"c\"]\n",
        "list2 = [1, 2, 3]\n",
        "list1.extend(list2)\n",
        "print(list1)\n",
        "\n",
        "\n",
        "# checking\n",
        "if \"apple\" in thislist:\n",
        "    print(\"Yes, 'apple' is in the fruits list\")\n",
        "\n",
        "#A list with strings, integers and boolean values:\n",
        "list1 = [\"abc\", 34, True, 40, \"male\"]"
      ],
      "metadata": {
        "id": "sTHHMYHwvCoW"
      },
      "execution_count": null,
      "outputs": []
    },
    {
      "cell_type": "markdown",
      "source": [
        "# function"
      ],
      "metadata": {
        "id": "K2vvQxJpvUZN"
      }
    },
    {
      "cell_type": "code",
      "source": [
        "def printVal():\n",
        "    print(\"20 days\",str(resutl),\" in min:\")\n",
        "    print(\" all good! \")\n",
        "\n",
        "def printValWithParameters(num_of_days, a):\n",
        "    print(f\"{num_of_days} {a}\")\n",
        "\n",
        "\n",
        "a = 20\n",
        "b = 24\n",
        "c = 60\n",
        "\n",
        "resutl   = a *b * c\n",
        "\n",
        "printVal()\n",
        "\n",
        "printValWithParameters(20,b)"
      ],
      "metadata": {
        "id": "J868ZwWBvWJf"
      },
      "execution_count": null,
      "outputs": []
    },
    {
      "cell_type": "markdown",
      "source": [
        "#Dictionary"
      ],
      "metadata": {
        "id": "gti_Xnh87wGD"
      }
    },
    {
      "cell_type": "code",
      "source": [
        "thisdict = {\n",
        "  \"brand\": \"Ford\",\n",
        "  \"model\": \"Mustang\",\n",
        "  \"year\": 1964\n",
        "}\n",
        "print(thisdict)"
      ],
      "metadata": {
        "colab": {
          "base_uri": "https://localhost:8080/"
        },
        "id": "qp4PUk7I7zgQ",
        "outputId": "14aacae2-6927-4aa9-e996-884291ecdfc0"
      },
      "execution_count": null,
      "outputs": [
        {
          "output_type": "stream",
          "name": "stdout",
          "text": [
            "{'brand': 'Ford', 'model': 'Mustang', 'year': 1964}\n"
          ]
        }
      ]
    },
    {
      "cell_type": "code",
      "source": [
        "#Access items\n",
        "x = thisdict[\"model\"]\n",
        "\n",
        "#Get the value of the \"model\" key:\n",
        "x = thisdict.get(\"model\")\n",
        "\n",
        "# get all keys\n",
        "x = thisdict.keys()"
      ],
      "metadata": {
        "id": "Fze5nZnm8yIk"
      },
      "execution_count": null,
      "outputs": []
    },
    {
      "cell_type": "code",
      "source": [
        "# Changing items in two ways.\n",
        "thisdict[\"year\"] = 2018\n",
        "thisdict.update({\"year\": 2020})"
      ],
      "metadata": {
        "id": "2jRbcYrV9DWd"
      },
      "execution_count": null,
      "outputs": []
    },
    {
      "cell_type": "code",
      "source": [
        "# add items\n",
        "thisdict[\"color\"] = \"red\"\n",
        "print(thisdict)"
      ],
      "metadata": {
        "colab": {
          "base_uri": "https://localhost:8080/"
        },
        "id": "ZnN2aBot9KaE",
        "outputId": "25b0df2b-bc12-47d4-9d6c-a9bca570de0d"
      },
      "execution_count": null,
      "outputs": [
        {
          "output_type": "stream",
          "name": "stdout",
          "text": [
            "{'brand': 'Ford', 'model': 'Mustang', 'year': 2020, 'color': 'red'}\n"
          ]
        }
      ]
    },
    {
      "cell_type": "code",
      "source": [
        "# remove items\n",
        "thisdict.pop(\"color\")\n",
        "print(thisdict)"
      ],
      "metadata": {
        "colab": {
          "base_uri": "https://localhost:8080/"
        },
        "id": "lEjp3M9O9Thy",
        "outputId": "8d7f6853-b73d-4e01-e151-9f8e06e51f90"
      },
      "execution_count": null,
      "outputs": [
        {
          "output_type": "stream",
          "name": "stdout",
          "text": [
            "{'brand': 'Ford', 'model': 'Mustang', 'year': 2020}\n"
          ]
        }
      ]
    },
    {
      "cell_type": "code",
      "source": [
        "# looping items\n",
        "\n",
        "print(\" >>__get all the values\")\n",
        "for x in thisdict:\n",
        "  print(x)\n",
        "\n",
        "\n",
        "print(\" >> __get all the keys\")\n",
        "for x in thisdict.keys():\n",
        "  print(x)\n",
        "\n",
        "\n",
        "print(\" >> __get all the values and keys\")\n",
        "for x, y in thisdict.items():\n",
        "  print(x, y)"
      ],
      "metadata": {
        "colab": {
          "base_uri": "https://localhost:8080/"
        },
        "id": "Wloyhx0G9ejS",
        "outputId": "d700c34b-78bb-4c23-d999-951c9b0c6efd"
      },
      "execution_count": null,
      "outputs": [
        {
          "output_type": "stream",
          "name": "stdout",
          "text": [
            " >>__get all the values\n",
            "brand\n",
            "model\n",
            "year\n",
            " >> __get all the keys\n",
            "brand\n",
            "model\n",
            "year\n",
            " >> get all the values and keys\n",
            "brand Ford\n",
            "model Mustang\n",
            "year 2020\n"
          ]
        }
      ]
    },
    {
      "cell_type": "code",
      "source": [
        "# copying a dictionary\n",
        "mydict = thisdict.copy()\n",
        "print(mydict)"
      ],
      "metadata": {
        "colab": {
          "base_uri": "https://localhost:8080/"
        },
        "id": "sZTYRzcm9jqq",
        "outputId": "5d8f88b3-c574-4d9b-9767-1d7c11765e0d"
      },
      "execution_count": null,
      "outputs": [
        {
          "output_type": "stream",
          "name": "stdout",
          "text": [
            "{'brand': 'Ford', 'model': 'Mustang', 'year': 2020}\n"
          ]
        }
      ]
    },
    {
      "cell_type": "markdown",
      "source": [
        "#try except"
      ],
      "metadata": {
        "id": "M8r6TfkMsQnj"
      }
    },
    {
      "cell_type": "code",
      "source": [
        "try:\n",
        "    a = int(input(\"Enter a : \"))\n",
        "\n",
        "except:\n",
        "    print(\"wrong value\")\n",
        "\n",
        "print(a)"
      ],
      "metadata": {
        "colab": {
          "base_uri": "https://localhost:8080/"
        },
        "id": "EHkIUt7hsU8U",
        "outputId": "4607fa83-8a58-4527-ba00-c52b357aafc4"
      },
      "execution_count": null,
      "outputs": [
        {
          "output_type": "stream",
          "name": "stdout",
          "text": [
            "Enter a : true\n",
            "wrong value\n",
            "12\n"
          ]
        }
      ]
    },
    {
      "cell_type": "markdown",
      "source": [
        "#sets"
      ],
      "metadata": {
        "id": "fEB2ha2JtufG"
      }
    },
    {
      "cell_type": "code",
      "source": [
        "# Set items are unchangeable, but you can remove items and add new items.\n",
        "# Set items are unordered, unchangeable, and do not allow duplicate values. Cant use refrred index\n",
        "# Duplicate values will be ignored\n",
        "\n",
        "thisset = {\"apple\", \"banana\", \"cherry\", \"apple\"}\n",
        "print(thisset)\n",
        "# output : {'apple', 'banana', 'cherry'} > duplicate item ignored.\n",
        "\n",
        "print(len(thisset))\n",
        "\n",
        "set1 = {\"abc\", 34, True, 40, \"male\"} #> A set can contain different data types\n",
        "\n",
        "\n",
        "GEEK = {'g', 'e', 'k'}\n",
        "# adding 's'\n",
        "GEEK.add('s')\n",
        "print('Letters are:', GEEK) #> Letters are: {'k', 'g', 'e', 's'}\n",
        "\n",
        "\n",
        "GEEK = {'g', 'e', 'k'}\n",
        "# removing 'k'\n",
        "GEEK.remove('k')\n",
        "print('Letters are:', GEEK) #> Letters are: {'g', 'e'}"
      ],
      "metadata": {
        "id": "PPZHxalvtxYs"
      },
      "execution_count": null,
      "outputs": []
    },
    {
      "cell_type": "markdown",
      "source": [
        "# return"
      ],
      "metadata": {
        "id": "cZeiqucVt9NU"
      }
    },
    {
      "cell_type": "code",
      "source": [
        "def returnVal(number_of_day):\n",
        "    return number_of_day+12\n",
        "\n",
        "\n",
        "a = int(input(\"Enter a : \"))\n",
        "\n",
        "my_var = returnVal(a)\n",
        "\n",
        "print(my_var)"
      ],
      "metadata": {
        "id": "wBK6jf0wt-u7"
      },
      "execution_count": null,
      "outputs": []
    },
    {
      "cell_type": "markdown",
      "source": [
        "# see type"
      ],
      "metadata": {
        "id": "hau1l5d4yg5f"
      }
    },
    {
      "cell_type": "code",
      "source": [
        "item1 = \"phone\"\n",
        "print(type(item1))"
      ],
      "metadata": {
        "colab": {
          "base_uri": "https://localhost:8080/"
        },
        "id": "Ua4JGsHgym7i",
        "outputId": "2d41287a-5147-4435-d96b-06a91aa865fb"
      },
      "execution_count": null,
      "outputs": [
        {
          "output_type": "stream",
          "name": "stdout",
          "text": [
            "<class 'str'>\n"
          ]
        }
      ]
    }
  ]
}